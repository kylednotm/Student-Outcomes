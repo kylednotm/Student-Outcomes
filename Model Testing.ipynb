{
 "cells": [
  {
   "cell_type": "code",
   "execution_count": 449,
   "metadata": {},
   "outputs": [],
   "source": [
    "import pandas as pd\n",
    "import numpy as np\n",
    "import matplotlib.pyplot as plt\n",
    "import seaborn as sns\n",
    "import time\n",
    "import pickle"
   ]
  },
  {
   "cell_type": "code",
   "execution_count": 450,
   "metadata": {},
   "outputs": [],
   "source": [
    "model = pickle.load(open('student_outcomes.model', 'rb'))\n",
    "school = pickle.load(open('davis_high.school', 'rb'))"
   ]
  },
  {
   "cell_type": "code",
   "execution_count": 451,
   "metadata": {},
   "outputs": [
    {
     "data": {
      "text/plain": [
       "(296, 728)"
      ]
     },
     "execution_count": 451,
     "metadata": {},
     "output_type": "execute_result"
    }
   ],
   "source": [
    "school_list = []\n",
    "\n",
    "for item in school:\n",
    "    school_list.append(item)\n",
    "    \n",
    "model.predict([school_list])[0], school[23]"
   ]
  },
  {
   "cell_type": "code",
   "execution_count": 452,
   "metadata": {},
   "outputs": [],
   "source": [
    "columns = ['ADULT', 'AFRICAN_AM', 'AM_IND', 'ASIAN', 'FILIPINO', 'HISPANIC',\n",
    "       'PAC_ISLD', 'WHITE', 'MULTIPLE', 'ENR_TOTAL', 'D7', 'D8', 'D9', 'D10',\n",
    "       'D11', 'D12', 'DTOT', 'DUS', 'GRADS', 'GR_8', 'GR_9', 'GR_10', 'GR_11',\n",
    "       'GR_12', 'UNGR_ELM', 'UNGR_SEC', 'Grade 12\\nEnrollment_y', 'TOTAL',\n",
    "       'Average\\nTotal\\nScore', 'Average\\nVerbal\\nScore',\n",
    "       'Average\\nMath\\nScore', 'Number\\nof\\nTakers', 'Percent\\nof\\nTakers',\n",
    "       'Number\\nw/Score\\n>=1000', 'Percent\\nw/Score\\n>=1000', 'Average\\nScore',\n",
    "       'Number\\n w/Score\\n>=21', 'Percent\\nw/Score\\n>=21', 'Number\\nTested',\n",
    "       'Percent\\nTested', 'Writing Average']\n",
    "\n",
    "# school_list"
   ]
  },
  {
   "cell_type": "code",
   "execution_count": 453,
   "metadata": {},
   "outputs": [
    {
     "data": {
      "text/plain": [
       "31"
      ]
     },
     "execution_count": 453,
     "metadata": {},
     "output_type": "execute_result"
    }
   ],
   "source": [
    "index_to_find = columns.index('Number\\nof\\nTakers')\n",
    "index_to_find"
   ]
  },
  {
   "cell_type": "code",
   "execution_count": 447,
   "metadata": {},
   "outputs": [
    {
     "data": {
      "text/plain": [
       "296"
      ]
     },
     "execution_count": 447,
     "metadata": {},
     "output_type": "execute_result"
    }
   ],
   "source": [
    "model.predict([school_list])[0]"
   ]
  },
  {
   "cell_type": "code",
   "execution_count": 432,
   "metadata": {},
   "outputs": [
    {
     "data": {
      "text/plain": [
       "305"
      ]
     },
     "execution_count": 432,
     "metadata": {},
     "output_type": "execute_result"
    }
   ],
   "source": [
    "school_list[index_to_find]"
   ]
  },
  {
   "cell_type": "code",
   "execution_count": 312,
   "metadata": {},
   "outputs": [
    {
     "data": {
      "text/plain": [
       "2604"
      ]
     },
     "execution_count": 312,
     "metadata": {},
     "output_type": "execute_result"
    }
   ],
   "source": [
    "school_list[index_to_find]=2604\n",
    "school_list[index_to_find]"
   ]
  },
  {
   "cell_type": "code",
   "execution_count": 313,
   "metadata": {},
   "outputs": [
    {
     "data": {
      "text/plain": [
       "296"
      ]
     },
     "execution_count": 313,
     "metadata": {},
     "output_type": "execute_result"
    }
   ],
   "source": [
    "model.predict([school_list])[0]"
   ]
  },
  {
   "cell_type": "code",
   "execution_count": 411,
   "metadata": {},
   "outputs": [
    {
     "data": {
      "text/html": [
       "<div>\n",
       "<style scoped>\n",
       "    .dataframe tbody tr th:only-of-type {\n",
       "        vertical-align: middle;\n",
       "    }\n",
       "\n",
       "    .dataframe tbody tr th {\n",
       "        vertical-align: top;\n",
       "    }\n",
       "\n",
       "    .dataframe thead th {\n",
       "        text-align: right;\n",
       "    }\n",
       "</style>\n",
       "<table border=\"1\" class=\"dataframe\">\n",
       "  <thead>\n",
       "    <tr style=\"text-align: right;\">\n",
       "      <th></th>\n",
       "      <th>Scenarios</th>\n",
       "      <th>Outcome</th>\n",
       "    </tr>\n",
       "  </thead>\n",
       "  <tbody>\n",
       "    <tr>\n",
       "      <th>0</th>\n",
       "      <td>Current</td>\n",
       "      <td>NaN</td>\n",
       "    </tr>\n",
       "    <tr>\n",
       "      <th>1</th>\n",
       "      <td>Hypothetical</td>\n",
       "      <td>NaN</td>\n",
       "    </tr>\n",
       "  </tbody>\n",
       "</table>\n",
       "</div>"
      ],
      "text/plain": [
       "      Scenarios Outcome\n",
       "0       Current     NaN\n",
       "1  Hypothetical     NaN"
      ]
     },
     "execution_count": 411,
     "metadata": {},
     "output_type": "execute_result"
    }
   ],
   "source": [
    "outcomes = pd.DataFrame(columns=['Scenarios', 'Outcome'])\n",
    "outcomes[\"Scenarios\"]= ['Current', 'Hypothetical']\n",
    "outcomes\n"
   ]
  },
  {
   "cell_type": "code",
   "execution_count": 424,
   "metadata": {},
   "outputs": [
    {
     "name": "stdout",
     "output_type": "stream",
     "text": [
      "Current Demographic Makeup:\n",
      "Race AFRICAN_AM number of students 4\n",
      "Race AM_IND number of students 6\n",
      "Race HISPANIC number of students 33\n",
      "------------------------------\n",
      "Hypothetical Demographic Makeup:\n",
      "Race AFRICAN_AM number of students 79\n",
      "Race AM_IND number of students 81\n",
      "Race HISPANIC number of students 108\n",
      "------------------------------\n",
      "With this data, the number of UC prepared students is changed from 296 to: 275\n"
     ]
    },
    {
     "data": {
      "image/png": "[encoded data removed]",
      "text/plain": [
       "<Figure size 432x288 with 1 Axes>"
      ]
     },
     "metadata": {
      "needs_background": "light"
     },
     "output_type": "display_data"
    }
   ],
   "source": [
    "races = [1, 2, 5]\n",
    "\n",
    "outcomes = pd.DataFrame(columns=['Scenarios', 'Outcome'])\n",
    "outcomes[\"Scenarios\"]= ['Current', 'Hypothetical']\n",
    "outcomes\n",
    "\n",
    "print('Current Demographic Makeup:')\n",
    "for race in races:\n",
    "#     school_list[race]+=75\n",
    "    print('Race ' + columns[race] + ' number of students ' + str(school_list[race]))\n",
    "\n",
    "model.predict([school_list])[0]\n",
    "outcomes['Outcome'][0]=model.predict([school_list])[0]\n",
    "    \n",
    "print('-'*30)\n",
    "print('Hypothetical Demographic Makeup:')\n",
    "    \n",
    "for race in races:\n",
    "    school_list[race]+=75\n",
    "    print('Race ' + columns[race] + ' number of students ' + str(school_list[race]))    \n",
    "    \n",
    "print(\"-\"*30)\n",
    "print(\"With this data, the number of UC prepared students is changed from 296 to: \" + str(model.predict([school_list])[0]))\n",
    "    \n",
    "model.predict([school_list])[0]\n",
    "outcomes['Outcome'][1]=model.predict([school_list])[0]\n",
    "\n",
    "# plt.figure(figsize=(20, 8))\n",
    "plt.bar(outcomes[\"Scenarios\"], outcomes['Outcome'], alpha=.5)\n",
    "plt.title('Demographic Impact')\n",
    "\n",
    "plt.show()"
   ]
  },
  {
   "cell_type": "code",
   "execution_count": 433,
   "metadata": {},
   "outputs": [
    {
     "name": "stdout",
     "output_type": "stream",
     "text": [
      "Current Demographic Makeup:\n",
      "Race ASIAN number of students 38\n",
      "Race WHITE number of students 208\n",
      "------------------------------\n",
      "Hypothetical Demographic Makeup:\n",
      "Race ASIAN number of students 113\n",
      "Race WHITE number of students 283\n",
      "------------------------------\n",
      "With this data, the number of UC prepared students is changed from 296 to: 358\n"
     ]
    },
    {
     "data": {
      "image/png": "[encoded data removed]",
      "text/plain": [
       "<Figure size 432x288 with 1 Axes>"
      ]
     },
     "metadata": {
      "needs_background": "light"
     },
     "output_type": "display_data"
    }
   ],
   "source": [
    "races = [3, 7]\n",
    "\n",
    "outcomes = pd.DataFrame(columns=['Scenarios', 'Outcome'])\n",
    "outcomes[\"Scenarios\"]= ['Current', 'Hypothetical']\n",
    "outcomes\n",
    "\n",
    "print('Current Demographic Makeup:')\n",
    "for race in races:\n",
    "#     school_list[race]+=75\n",
    "    print('Race ' + columns[race] + ' number of students ' + str(school_list[race]))\n",
    "\n",
    "model.predict([school_list])[0]\n",
    "outcomes['Outcome'][0]=model.predict([school_list])[0]\n",
    "    \n",
    "print('-'*30)\n",
    "print('Hypothetical Demographic Makeup:')\n",
    "    \n",
    "for race in races:\n",
    "    school_list[race]+=75\n",
    "    print('Race ' + columns[race] + ' number of students ' + str(school_list[race]))    \n",
    "    \n",
    "print(\"-\"*30)\n",
    "print(\"With this data, the number of UC prepared students is changed from 296 to: \" + str(model.predict([school_list])[0]))\n",
    "    \n",
    "model.predict([school_list])[0]\n",
    "outcomes['Outcome'][1]=model.predict([school_list])[0]\n",
    "\n",
    "# plt.figure(figsize=(20, 8))\n",
    "plt.bar(outcomes[\"Scenarios\"], outcomes['Outcome'], alpha=.5)\n",
    "plt.title('Demographic Impact')\n",
    "\n",
    "plt.show()"
   ]
  },
  {
   "cell_type": "code",
   "execution_count": 441,
   "metadata": {},
   "outputs": [
    {
     "name": "stdout",
     "output_type": "stream",
     "text": [
      "Current Dropout Rates:\n",
      "Grade D8 number of dropouts 0.0\n",
      "Grade D9 number of dropouts 19.5\n",
      "Grade D10 number of dropouts 6.0\n",
      "Grade D11 number of dropouts 4.5\n",
      "Grade D12 number of dropouts 3.0\n",
      "Grade DTOT number of dropouts 33.0\n",
      "------------------------------\n",
      "Increased Dropout Rates:\n",
      "Grade D8 number of dropouts 0.0\n",
      "Grade D9 number of dropouts 29.25\n",
      "Grade D10 number of dropouts 9.0\n",
      "Grade D11 number of dropouts 6.75\n",
      "Grade D12 number of dropouts 4.5\n",
      "Grade DTOT number of dropouts 49.5\n",
      "------------------------------\n",
      "With this data, the number of UC prepared students is changed from 296 to: 292\n"
     ]
    },
    {
     "data": {
      "image/png": "[encoded data removed]",
      "text/plain": [
       "<Figure size 432x288 with 1 Axes>"
      ]
     },
     "metadata": {
      "needs_background": "light"
     },
     "output_type": "display_data"
    },
    {
     "name": "stdout",
     "output_type": "stream",
     "text": [
      "------------------------------\n",
      "With this data, the number of UC prepared students is changed from 296 to: 292\n"
     ]
    }
   ],
   "source": [
    "dropouts = [11, 12, 13, 14, 15, 16]\n",
    "\n",
    "outcomes = pd.DataFrame(columns=['Scenarios', 'Outcome'])\n",
    "outcomes[\"Scenarios\"]= ['Current', 'Hypothetical']\n",
    "outcomes\n",
    "\n",
    "print('Current Dropout Rates:')\n",
    "for dropout in dropouts:\n",
    "#     school_list[dropout]*=1.5\n",
    "    print('Grade ' + columns[dropout] + ' number of dropouts ' + str(school_list[dropout]))\n",
    "    \n",
    "model.predict([school_list])[0]\n",
    "outcomes['Outcome'][0]=model.predict([school_list])[0]\n",
    "    \n",
    "print('-'*30)\n",
    "print('Increased Dropout Rates:')\n",
    "\n",
    "for dropout in dropouts:\n",
    "    school_list[dropout]*=1.5\n",
    "    print('Grade ' + columns[dropout] + ' number of dropouts ' + str(school_list[dropout]))\n",
    "\n",
    "model.predict([school_list])[0]\n",
    "outcomes['Outcome'][1]=model.predict([school_list])[0]\n",
    "\n",
    "print(\"-\"*30)\n",
    "print(\"With this data, the number of UC prepared students is changed from 296 to: \" + str(model.predict([school_list])[0]))\n",
    "\n",
    "# plt.figure(figsize=(20, 8))\n",
    "plt.bar(outcomes[\"Scenarios\"], outcomes['Outcome'], alpha=.5)\n",
    "plt.title('Dropout Impact')\n",
    "\n",
    "plt.show()   \n",
    "    \n",
    "print(\"-\"*30)\n",
    "print(\"With this data, the number of UC prepared students is changed from 296 to: \" + str(model.predict([school_list])[0]))\n",
    "    \n"
   ]
  },
  {
   "cell_type": "code",
   "execution_count": 454,
   "metadata": {},
   "outputs": [
    {
     "name": "stdout",
     "output_type": "stream",
     "text": [
      "Current SAT Number of Takers 305\n",
      "Current SAT Percent of Takers 42.4\n",
      "With this data, the number of UC prepared students is : 296\n",
      "------------------------------\n",
      "Hypothetical SAT Number of Takers 457.5\n",
      "Hypothetical SAT Percent of Takers 63.599999999999994\n",
      "------------------------------\n",
      "In our hypothetical, our UC preparedness increases to : 371\n"
     ]
    },
    {
     "data": {
      "image/png": "[encoded data removed]",
      "text/plain": [
       "<Figure size 432x288 with 1 Axes>"
      ]
     },
     "metadata": {
      "needs_background": "light"
     },
     "output_type": "display_data"
    }
   ],
   "source": [
    "SAT_takers = [31, 32]\n",
    "\n",
    "outcomes = pd.DataFrame(columns=['Scenarios', 'Outcome'])\n",
    "outcomes[\"Scenarios\"]= ['Current', 'Hypothetical']\n",
    "outcomes\n",
    "\n",
    "for feature in SAT_takers:\n",
    "#     school_list[feature]*=1.5\n",
    "    print('Current SAT ' + columns[feature].replace('\\n', ' ') + ' ' + str(school_list[feature]))\n",
    "    \n",
    "\n",
    "print(\"With this data, the number of UC prepared students is : \" + str(model.predict([school_list])[0]))   \n",
    "print(\"-\"*30)\n",
    "model.predict([school_list])[0]\n",
    "outcomes['Outcome'][0]=model.predict([school_list])[0]\n",
    "\n",
    "for feature in SAT_takers:\n",
    "    school_list[feature]*=1.5\n",
    "    print('Hypothetical SAT ' + columns[feature].replace('\\n', ' ') + ' ' + str(school_list[feature]))\n",
    "    \n",
    "\n",
    "model.predict([school_list])[0]\n",
    "outcomes['Outcome'][1]=model.predict([school_list])[0]\n",
    "\n",
    "print(\"-\"*30)\n",
    "print(\"In our hypothetical, our UC preparedness increases to : \" + str(model.predict([school_list])[0]))\n",
    "\n",
    "# plt.figure(figsize=(20, 8))\n",
    "plt.bar(outcomes[\"Scenarios\"], outcomes['Outcome'], alpha=.5)\n",
    "plt.title('Demographic Impact')\n",
    "\n",
    "plt.show() "
   ]
  },
  {
   "cell_type": "code",
   "execution_count": null,
   "metadata": {},
   "outputs": [],
   "source": [
    "columns = ['ADULT', 'AFRICAN_AM', 'AM_IND', 'ASIAN', 'FILIPINO', 'HISPANIC',\n",
    "       'PAC_ISLD', 'WHITE', 'MULTIPLE', 'ENR_TOTAL', 'D7', 'D8', 'D9', 'D10',\n",
    "       'D11', 'D12', 'DTOT', 'DUS', 'GRADS', 'GR_8', 'GR_9', 'GR_10', 'GR_11',\n",
    "       'GR_12', 'UNGR_ELM', 'UNGR_SEC', 'Grade 12\\nEnrollment_y', 'TOTAL',\n",
    "       'Average\\nTotal\\nScore', 'Average\\nVerbal\\nScore',\n",
    "       'Average\\nMath\\nScore', 'Number\\nof\\nTakers', 'Percent\\nof\\nTakers',\n",
    "       'Number\\nw/Score\\n>=1000', 'Percent\\nw/Score\\n>=1000', 'Average\\nScore',\n",
    "       'Number\\n w/Score\\n>=21', 'Percent\\nw/Score\\n>=21', 'Number\\nTested',\n",
    "       'Percent\\nTested', 'Writing Average']\n",
    "\n",
    "adult=school['ADULT']\n",
    "af_am=school['AFRICAN_AM']\n",
    "am_ind=school['AM_IND']\n",
    "asian=school['ASIAN']\n",
    "flip=school['FILIPINO']\n",
    "hisp=school['HISPANIC']\n",
    "pac_isl=school['PAC_ISLD']\n",
    "white=school['WHITE']\n",
    "mult_race=school['MULTIPLE']\n",
    "enrolled=school['ENR_TOTAL']\n",
    "dropout_7th=school['D7']\n",
    "dropout_8th=school['D8']\n",
    "dropout_9th=school['D9']\n",
    "dropout_10th=school['D10']\n",
    "dropout_11th=school['D11']\n",
    "dropout_12th=school['D12']\n",
    "dropout_Total=school['DTOT']\n",
    "grads=school['GRADS']\n",
    "grade_8=school['GR_8']\n",
    "grade_9=school['GR_9']\n",
    "grade_10=school['GR_10']\n",
    "grade_11=school['GR_11']\n",
    "grade_12=school['GR_12']\n",
    "ungr_elem=school['UNGR_ELM']\n",
    "ungr_sec=school['UNGR_SEC']\n",
    "grade_12_enroll=school['Grade 12\\nEnrollment_y']\n",
    "avg_total_score=school['Average\\nTotal\\nScore']\n",
    "avg_verbal_score=school['Average\\nVerbal\\nScore']\n",
    "avg_math_score=school['Average\\nMath\\nScore']\n",
    "num_taken=school['Number\\nof\\nTakers']\n",
    "perc_taken=school['Percent\\nof\\nTakers']\n",
    "num_ov_1000=school['Number\\nw/Score\\n>=1000'] \n",
    "perc_ov_1000=school['Percent\\nw/Score\\n>=1000']\n",
    "avg_score=school['Average\\nScore']\n",
    "num_ov_21=school['Number\\n w/Score\\n>=21'] \n",
    "perc_ov_21=school['Percent\\nw/Score\\n>=21']\n",
    "num_tested=school['Number\\nTested']\n",
    "perc_tested=school['Percent\\nTested']"
   ]
  },
  {
   "cell_type": "code",
   "execution_count": 484,
   "metadata": {},
   "outputs": [
    {
     "data": {
      "text/html": [
       "<div>\n",
       "<style scoped>\n",
       "    .dataframe tbody tr th:only-of-type {\n",
       "        vertical-align: middle;\n",
       "    }\n",
       "\n",
       "    .dataframe tbody tr th {\n",
       "        vertical-align: top;\n",
       "    }\n",
       "\n",
       "    .dataframe thead th {\n",
       "        text-align: right;\n",
       "    }\n",
       "</style>\n",
       "<table border=\"1\" class=\"dataframe\">\n",
       "  <thead>\n",
       "    <tr style=\"text-align: right;\">\n",
       "      <th></th>\n",
       "      <th>ACT_Perc_Tested</th>\n",
       "    </tr>\n",
       "  </thead>\n",
       "  <tbody>\n",
       "    <tr>\n",
       "      <th>0</th>\n",
       "      <td>1</td>\n",
       "    </tr>\n",
       "    <tr>\n",
       "      <th>1</th>\n",
       "      <td>1</td>\n",
       "    </tr>\n",
       "    <tr>\n",
       "      <th>2</th>\n",
       "      <td>1</td>\n",
       "    </tr>\n",
       "    <tr>\n",
       "      <th>3</th>\n",
       "      <td>1</td>\n",
       "    </tr>\n",
       "    <tr>\n",
       "      <th>4</th>\n",
       "      <td>2</td>\n",
       "    </tr>\n",
       "    <tr>\n",
       "      <th>5</th>\n",
       "      <td>3</td>\n",
       "    </tr>\n",
       "    <tr>\n",
       "      <th>6</th>\n",
       "      <td>4</td>\n",
       "    </tr>\n",
       "  </tbody>\n",
       "</table>\n",
       "</div>"
      ],
      "text/plain": [
       "   ACT_Perc_Tested\n",
       "0                1\n",
       "1                1\n",
       "2                1\n",
       "3                1\n",
       "4                2\n",
       "5                3\n",
       "6                4"
      ]
     },
     "execution_count": 484,
     "metadata": {},
     "output_type": "execute_result"
    }
   ],
   "source": [
    "changes = [1, 2]\n",
    "\n",
    "df = pd.DataFrame(columns=['ACT_Perc_Tested'])\n",
    "\n",
    "df['ACT_Perc_Tested']=[1, 1, 1, 1, 2, 3, 4]\n",
    "\n",
    "for change in changes:\n",
    "    df.iloc[[change]]['ACT_Perc_Tested'][1]=4\n",
    "#     df.iloc[[change,'ACT_Perc_Tested']]=4\n",
    "    \n",
    "df\n"
   ]
  }
 ],
 "metadata": {
  "kernelspec": {
   "display_name": "Python 3",
   "language": "python",
   "name": "python3"
  },
  "language_info": {
   "codemirror_mode": {
    "name": "ipython",
    "version": 3
   },
   "file_extension": ".py",
   "mimetype": "text/x-python",
   "name": "python",
   "nbconvert_exporter": "python",
   "pygments_lexer": "ipython3",
   "version": "3.7.1"
  }
 },
 "nbformat": 4,
 "nbformat_minor": 2
}
